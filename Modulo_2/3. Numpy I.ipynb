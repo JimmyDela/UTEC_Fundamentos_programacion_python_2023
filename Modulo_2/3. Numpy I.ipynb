{
  "nbformat": 4,
  "nbformat_minor": 0,
  "metadata": {
    "colab": {
      "provenance": [],
      "include_colab_link": true
    },
    "kernelspec": {
      "name": "python3",
      "display_name": "Python 3"
    },
    "language_info": {
      "name": "python"
    }
  },
  "cells": [
    {
      "cell_type": "markdown",
      "metadata": {
        "id": "view-in-github",
        "colab_type": "text"
      },
      "source": [
        "<a href=\"https://colab.research.google.com/github/JimmyDela/UTEC_Fundamentos_programacion_python_2023/blob/main/Modulo_2/3.%20Numpy%20I.ipynb\" target=\"_parent\"><img src=\"https://colab.research.google.com/assets/colab-badge.svg\" alt=\"Open In Colab\"/></a>"
      ]
    },
    {
      "cell_type": "markdown",
      "source": [
        "<img src=\"https://www.ctic.uni.edu.pe/wp-content/uploads/2022/04/588px-x-348px-web-1.png\" alt=\"HTML5 Icon\" width=\"900\" height=\"350\" >"
      ],
      "metadata": {
        "id": "E_ZHW3fmVS4E"
      }
    },
    {
      "cell_type": "markdown",
      "source": [
        "<h1 align=center><font size = 5> Numpy - Parte I\n",
        "</font></h1>\n",
        "\n",
        "---"
      ],
      "metadata": {
        "id": "11DUCa4NVXVE"
      }
    },
    {
      "cell_type": "markdown",
      "source": [
        "## Tabla de Contenidos\n",
        "\n",
        "<div class=\"alert alert-block alert-info\" style=\"margin-top: 20px\">\n",
        "\n",
        "<font size = 3>\n",
        "    \n",
        "1. <a href=\"#item31\">Trabajando con arrays </a>\n",
        "2. <a href=\"#item31\">Algebra Matricial con arrays</a>  \n",
        "\n",
        "</font>\n",
        "</div>\n",
        "\n",
        "---"
      ],
      "metadata": {
        "id": "y0BfNj-RyguL"
      }
    },
    {
      "cell_type": "markdown",
      "source": [
        "# 1. Trabajando con Arrays "
      ],
      "metadata": {
        "id": "fY5fHyw61UB5"
      }
    },
    {
      "cell_type": "code",
      "source": [
        "#importando numpy\n",
        "import numpy as np"
      ],
      "metadata": {
        "id": "f1NmzUpsUrcj"
      },
      "execution_count": 1,
      "outputs": []
    },
    {
      "cell_type": "code",
      "source": [
        "np.array([\"j\",\"p\"])"
      ],
      "metadata": {
        "colab": {
          "base_uri": "https://localhost:8080/"
        },
        "id": "1loN7Jska219",
        "outputId": "5bf94f3d-0b10-412c-b438-18ae443e2343"
      },
      "execution_count": null,
      "outputs": [
        {
          "output_type": "execute_result",
          "data": {
            "text/plain": [
              "array(['j', 'p'], dtype='<U1')"
            ]
          },
          "metadata": {},
          "execution_count": 4
        }
      ]
    },
    {
      "cell_type": "code",
      "source": [
        "## Generando error \n",
        "np.array([12,34,5,67,7,89],\n",
        "         [2 ,3 ,5,6,7,8,8])"
      ],
      "metadata": {
        "colab": {
          "base_uri": "https://localhost:8080/",
          "height": 182
        },
        "id": "PDkCkjG2bFJU",
        "outputId": "aa4a4ede-a4a9-45d3-f97e-0241fd6d1c0b"
      },
      "execution_count": null,
      "outputs": [
        {
          "output_type": "error",
          "ename": "TypeError",
          "evalue": "ignored",
          "traceback": [
            "\u001b[0;31m---------------------------------------------------------------------------\u001b[0m",
            "\u001b[0;31mTypeError\u001b[0m                                 Traceback (most recent call last)",
            "\u001b[0;32m<ipython-input-5-89c99ebee16b>\u001b[0m in \u001b[0;36m<cell line: 1>\u001b[0;34m()\u001b[0m\n\u001b[0;32m----> 1\u001b[0;31m np.array([12,34,5,67,7,89],\n\u001b[0m\u001b[1;32m      2\u001b[0m          [2 ,3 ,5,6,7,8,8])\n",
            "\u001b[0;31mTypeError\u001b[0m: Field elements must be 2- or 3-tuples, got '2'"
          ]
        }
      ]
    },
    {
      "cell_type": "code",
      "source": [
        "a= np.array([[12,34,5,67,7,89],\n",
        "             [12,23,5,67,7,88]])\n",
        "a.shape"
      ],
      "metadata": {
        "colab": {
          "base_uri": "https://localhost:8080/"
        },
        "id": "MBhpiuh_bkB1",
        "outputId": "a5fa4a37-ec19-48a2-ceee-1f07eecaf1dd"
      },
      "execution_count": null,
      "outputs": [
        {
          "output_type": "execute_result",
          "data": {
            "text/plain": [
              "(2, 6)"
            ]
          },
          "metadata": {},
          "execution_count": 10
        }
      ]
    },
    {
      "cell_type": "code",
      "source": [
        "a= np.array([[[12,34,5,67,7,89],\n",
        "             [12,23,5,67,7,88],\n",
        "             [12,23,5,67,7,88]],\n",
        "            \n",
        "             [[12,34,5,67,7,89],\n",
        "             [12,23,5,67,7,88],\n",
        "             [12,23,5,67,7,88]]])\n",
        "a.shape"
      ],
      "metadata": {
        "colab": {
          "base_uri": "https://localhost:8080/"
        },
        "id": "a_J0bF2WciNe",
        "outputId": "9e13ce16-1313-4c24-d23a-f38ac15219ec"
      },
      "execution_count": null,
      "outputs": [
        {
          "output_type": "execute_result",
          "data": {
            "text/plain": [
              "(2, 3, 6)"
            ]
          },
          "metadata": {},
          "execution_count": 14
        }
      ]
    },
    {
      "cell_type": "code",
      "source": [
        "# Array de una dimensión\n",
        "a1 = np.array([1, 2, 3])\n",
        "print(a1)\n",
        "type(a1)"
      ],
      "metadata": {
        "id": "SiPNzB73APBU",
        "colab": {
          "base_uri": "https://localhost:8080/"
        },
        "outputId": "97ac7070-5a19-45fe-e2ba-29dbe9424ebb"
      },
      "execution_count": 2,
      "outputs": [
        {
          "output_type": "stream",
          "name": "stdout",
          "text": [
            "[1 2 3]\n"
          ]
        },
        {
          "output_type": "execute_result",
          "data": {
            "text/plain": [
              "numpy.ndarray"
            ]
          },
          "metadata": {},
          "execution_count": 2
        }
      ]
    },
    {
      "cell_type": "code",
      "execution_count": 3,
      "metadata": {
        "id": "A2OxEnshtGJD",
        "outputId": "07937347-48cc-46cb-86f9-7d682512a85b",
        "colab": {
          "base_uri": "https://localhost:8080/"
        }
      },
      "outputs": [
        {
          "output_type": "stream",
          "name": "stdout",
          "text": [
            "[[1 2 3]\n",
            " [4 5 6]]\n"
          ]
        }
      ],
      "source": [
        "# Array de dos dimensiones\n",
        "a2 = np.array([[1, 2, 3], [4, 5, 6]])\n",
        "print(a2)"
      ]
    },
    {
      "cell_type": "code",
      "source": [
        "# Array de tres dimensiones\n",
        "a3 = np.array([[[1, 2, 3], [4, 5, 6]], [[7, 8, 9], [10, 11, 12]]])\n",
        "print(a3)"
      ],
      "metadata": {
        "id": "BusmC4LB1gI8",
        "outputId": "be5ea3a7-cf25-4cec-c67a-311f089387f4",
        "colab": {
          "base_uri": "https://localhost:8080/"
        }
      },
      "execution_count": 4,
      "outputs": [
        {
          "output_type": "stream",
          "name": "stdout",
          "text": [
            "[[[ 1  2  3]\n",
            "  [ 4  5  6]]\n",
            "\n",
            " [[ 7  8  9]\n",
            "  [10 11 12]]]\n"
          ]
        }
      ]
    },
    {
      "cell_type": "markdown",
      "source": [
        "### Otras formas de crear arrays"
      ],
      "metadata": {
        "id": "VcV6mD36V0Ip"
      }
    },
    {
      "cell_type": "code",
      "source": [
        "np.zeros((3,3,3,3))"
      ],
      "metadata": {
        "id": "v4lFhW1sbg_2",
        "outputId": "78a455a5-da86-4ddf-cca4-d8bd533b2654",
        "colab": {
          "base_uri": "https://localhost:8080/"
        }
      },
      "execution_count": 25,
      "outputs": [
        {
          "output_type": "execute_result",
          "data": {
            "text/plain": [
              "array([[[[0., 0., 0.],\n",
              "         [0., 0., 0.],\n",
              "         [0., 0., 0.]],\n",
              "\n",
              "        [[0., 0., 0.],\n",
              "         [0., 0., 0.],\n",
              "         [0., 0., 0.]],\n",
              "\n",
              "        [[0., 0., 0.],\n",
              "         [0., 0., 0.],\n",
              "         [0., 0., 0.]]],\n",
              "\n",
              "\n",
              "       [[[0., 0., 0.],\n",
              "         [0., 0., 0.],\n",
              "         [0., 0., 0.]],\n",
              "\n",
              "        [[0., 0., 0.],\n",
              "         [0., 0., 0.],\n",
              "         [0., 0., 0.]],\n",
              "\n",
              "        [[0., 0., 0.],\n",
              "         [0., 0., 0.],\n",
              "         [0., 0., 0.]]],\n",
              "\n",
              "\n",
              "       [[[0., 0., 0.],\n",
              "         [0., 0., 0.],\n",
              "         [0., 0., 0.]],\n",
              "\n",
              "        [[0., 0., 0.],\n",
              "         [0., 0., 0.],\n",
              "         [0., 0., 0.]],\n",
              "\n",
              "        [[0., 0., 0.],\n",
              "         [0., 0., 0.],\n",
              "         [0., 0., 0.]]]])"
            ]
          },
          "metadata": {},
          "execution_count": 25
        }
      ]
    },
    {
      "cell_type": "code",
      "source": [
        "np.ones((2, 2))"
      ],
      "metadata": {
        "id": "pz_NpJO6brs0",
        "outputId": "90c4a9e6-f003-4198-fbe3-3ef8c86bffd0",
        "colab": {
          "base_uri": "https://localhost:8080/"
        }
      },
      "execution_count": 26,
      "outputs": [
        {
          "output_type": "execute_result",
          "data": {
            "text/plain": [
              "array([[1., 1.],\n",
              "       [1., 1.]])"
            ]
          },
          "metadata": {},
          "execution_count": 26
        }
      ]
    },
    {
      "cell_type": "code",
      "source": [
        "np.full((2,2), 10)"
      ],
      "metadata": {
        "id": "7jt7YHcmAahG",
        "outputId": "6fd61d6c-29ef-4cf2-d483-7df642021b55",
        "colab": {
          "base_uri": "https://localhost:8080/"
        }
      },
      "execution_count": 27,
      "outputs": [
        {
          "output_type": "execute_result",
          "data": {
            "text/plain": [
              "array([[10, 10],\n",
              "       [10, 10]])"
            ]
          },
          "metadata": {},
          "execution_count": 27
        }
      ]
    },
    {
      "cell_type": "code",
      "source": [
        "np.identity(3)"
      ],
      "metadata": {
        "id": "0ufNgmA_b0M4",
        "outputId": "200e141d-8f3b-4f8e-b1c1-353fcf8ec3c6",
        "colab": {
          "base_uri": "https://localhost:8080/"
        }
      },
      "execution_count": 28,
      "outputs": [
        {
          "output_type": "execute_result",
          "data": {
            "text/plain": [
              "array([[1., 0., 0.],\n",
              "       [0., 1., 0.],\n",
              "       [0., 0., 1.]])"
            ]
          },
          "metadata": {},
          "execution_count": 28
        }
      ]
    },
    {
      "cell_type": "code",
      "source": [
        "np.arange(1, 9, 2)"
      ],
      "metadata": {
        "id": "0ZhBiYJuAfJB",
        "outputId": "7be1509e-94bc-4d7f-9a6a-258415c4e3e9",
        "colab": {
          "base_uri": "https://localhost:8080/"
        }
      },
      "execution_count": 29,
      "outputs": [
        {
          "output_type": "execute_result",
          "data": {
            "text/plain": [
              "array([1, 3, 5, 7])"
            ]
          },
          "metadata": {},
          "execution_count": 29
        }
      ]
    },
    {
      "cell_type": "code",
      "source": [
        "np.linspace(1, 9, 3) ## se fefine un rango y la cantidad de datos equidistantes al rango"
      ],
      "metadata": {
        "id": "Gd335gxCAjGa",
        "outputId": "9fba60de-2534-431f-c50e-8fcbda3f7a73",
        "colab": {
          "base_uri": "https://localhost:8080/"
        }
      },
      "execution_count": 31,
      "outputs": [
        {
          "output_type": "execute_result",
          "data": {
            "text/plain": [
              "array([1., 5., 9.])"
            ]
          },
          "metadata": {},
          "execution_count": 31
        }
      ]
    },
    {
      "cell_type": "code",
      "source": [
        "np.random.random((2, 2)) "
      ],
      "metadata": {
        "id": "H5yuZdfkXMym",
        "outputId": "d40e8db0-5edc-4f6a-e0d4-20b62c128805",
        "colab": {
          "base_uri": "https://localhost:8080/"
        }
      },
      "execution_count": 32,
      "outputs": [
        {
          "output_type": "execute_result",
          "data": {
            "text/plain": [
              "array([[0.1298949 , 0.84622792],\n",
              "       [0.40494776, 0.35041446]])"
            ]
          },
          "metadata": {},
          "execution_count": 32
        }
      ]
    },
    {
      "cell_type": "code",
      "source": [
        "np.array([np.random.randint(100) for x in range(0,4)])"
      ],
      "metadata": {
        "id": "7rG8NodTUY9a",
        "outputId": "147fa301-d46d-4324-a0b9-74d090a8a6fd",
        "colab": {
          "base_uri": "https://localhost:8080/"
        }
      },
      "execution_count": 47,
      "outputs": [
        {
          "output_type": "execute_result",
          "data": {
            "text/plain": [
              "array([90, 96, 66, 37])"
            ]
          },
          "metadata": {},
          "execution_count": 47
        }
      ]
    },
    {
      "cell_type": "markdown",
      "source": [
        "### Atributos de un array"
      ],
      "metadata": {
        "id": "0GbfBGic15oY"
      }
    },
    {
      "cell_type": "code",
      "source": [
        "#Devuelve el número de dimensiones del array\n",
        "my_array = np.identity(7)\n",
        "my_array.ndim "
      ],
      "metadata": {
        "id": "p4DArzqhCKco",
        "outputId": "2cb5f01a-e01d-4dc2-d73b-bd98d34d859b",
        "colab": {
          "base_uri": "https://localhost:8080/"
        }
      },
      "execution_count": 57,
      "outputs": [
        {
          "output_type": "execute_result",
          "data": {
            "text/plain": [
              "2"
            ]
          },
          "metadata": {},
          "execution_count": 57
        }
      ]
    },
    {
      "cell_type": "code",
      "source": [
        "my_array.shape"
      ],
      "metadata": {
        "id": "SGdG-jycXZ_T",
        "outputId": "de8453d8-9f4d-4cb5-f413-24397509a9ec",
        "colab": {
          "base_uri": "https://localhost:8080/"
        }
      },
      "execution_count": 58,
      "outputs": [
        {
          "output_type": "execute_result",
          "data": {
            "text/plain": [
              "(7, 7)"
            ]
          },
          "metadata": {},
          "execution_count": 58
        }
      ]
    },
    {
      "cell_type": "code",
      "source": [
        "#Devuelve una tupla con las dimensiones del array\n",
        "my.shape"
      ],
      "metadata": {
        "id": "ndoPuCOaXhuC"
      },
      "execution_count": null,
      "outputs": []
    },
    {
      "cell_type": "code",
      "source": [
        "#Devuelve el número de elementos del array\n",
        "a.size"
      ],
      "metadata": {
        "id": "76MmfeABXj9I"
      },
      "execution_count": null,
      "outputs": []
    },
    {
      "cell_type": "code",
      "source": [
        "#Devuelve el tipo de datos de los elementos del array\n",
        "a.dtype"
      ],
      "metadata": {
        "id": "iojpwYpIXqvp"
      },
      "execution_count": null,
      "outputs": []
    },
    {
      "cell_type": "markdown",
      "source": [
        "### Acceder a elementos del array"
      ],
      "metadata": {
        "id": "b3Y8iK2rYUNk"
      }
    },
    {
      "cell_type": "code",
      "source": [
        "a = np.array([[1, 2, 3],\n",
        "              [4, 5, 6]])\n",
        "print(a[1, 0])"
      ],
      "metadata": {
        "id": "VxwH2dxTYT2p",
        "outputId": "924f18d9-6f56-4a96-faa2-585b9ac272ed",
        "colab": {
          "base_uri": "https://localhost:8080/"
        }
      },
      "execution_count": 60,
      "outputs": [
        {
          "output_type": "stream",
          "name": "stdout",
          "text": [
            "4\n"
          ]
        }
      ]
    },
    {
      "cell_type": "code",
      "source": [
        "## Cual sera la forma de extraer el valor 3 del array\n",
        "print(a[0,2])\n",
        "## Cual sera la forma de extraer el valor 3 del array\n",
        "print(a[1,2])"
      ],
      "metadata": {
        "id": "5F4S14g0cSV6",
        "outputId": "82e8d96d-72d0-4a68-dcd3-fa6b30250f4b",
        "colab": {
          "base_uri": "https://localhost:8080/"
        }
      },
      "execution_count": 63,
      "outputs": [
        {
          "output_type": "stream",
          "name": "stdout",
          "text": [
            "3\n",
            "6\n"
          ]
        }
      ]
    },
    {
      "cell_type": "code",
      "source": [
        "a= np.array([[[12,34,5,67,7,89],\n",
        "             [122,23,5,67,7,88],\n",
        "             [132,23,5,67,7,88]],\n",
        "            \n",
        "             [[142,34,5,67,7,89],\n",
        "             [172,23,5,67,7,88],\n",
        "             [120,23,5,67,7,88]]])\n",
        "print(a[1,0,0])\n",
        "print(a[1][2][0])"
      ],
      "metadata": {
        "id": "CssOeXamdRAj",
        "outputId": "abcf7911-b619-4fce-e2f9-9762cc022e89",
        "colab": {
          "base_uri": "https://localhost:8080/"
        }
      },
      "execution_count": 66,
      "outputs": [
        {
          "output_type": "stream",
          "name": "stdout",
          "text": [
            "142\n",
            "120\n"
          ]
        }
      ]
    },
    {
      "cell_type": "code",
      "source": [
        "print(a[1][0])"
      ],
      "metadata": {
        "id": "TZoWHwO8YeBa"
      },
      "execution_count": null,
      "outputs": []
    },
    {
      "cell_type": "code",
      "source": [
        "print(a[:, 0:2])"
      ],
      "metadata": {
        "id": "PnAyfn-zYhIt"
      },
      "execution_count": null,
      "outputs": []
    },
    {
      "cell_type": "code",
      "source": [
        "a = np.array([1, 2, 3,4,5])\n",
        "a[2:]"
      ],
      "metadata": {
        "id": "I-hTHgOMfuMa",
        "outputId": "dc672d62-22fb-4935-8577-103893c9dda8",
        "colab": {
          "base_uri": "https://localhost:8080/"
        }
      },
      "execution_count": 69,
      "outputs": [
        {
          "output_type": "execute_result",
          "data": {
            "text/plain": [
              "array([3, 4, 5])"
            ]
          },
          "metadata": {},
          "execution_count": 69
        }
      ]
    },
    {
      "cell_type": "code",
      "source": [
        "a = np.array([[1, 2, 3],\n",
        "              [4, 5, 6]])\n",
        "a[1,1:]"
      ],
      "metadata": {
        "id": "GC7VWBo6gWLb",
        "outputId": "19109aa2-3cfa-4439-98c2-94b8aa81bebb",
        "colab": {
          "base_uri": "https://localhost:8080/"
        }
      },
      "execution_count": 70,
      "outputs": [
        {
          "output_type": "execute_result",
          "data": {
            "text/plain": [
              "array([5, 6])"
            ]
          },
          "metadata": {},
          "execution_count": 70
        }
      ]
    },
    {
      "cell_type": "code",
      "source": [
        "a= np.array([[[12,34,5,67,7,89],\n",
        "             [122,23,5,67,7,88],\n",
        "             [132,23,5,67,7,88]],\n",
        "            \n",
        "             [[142,34,5,67,7,89],\n",
        "             [172,23,5,67,7,88],\n",
        "             [120,23,5,67,7,88]]])\n",
        "a[ : , 0,4:]"
      ],
      "metadata": {
        "id": "1mtot73GgjlK",
        "outputId": "14737fbb-c00a-44a6-fbe3-e98da2f00f76",
        "colab": {
          "base_uri": "https://localhost:8080/"
        }
      },
      "execution_count": 71,
      "outputs": [
        {
          "output_type": "execute_result",
          "data": {
            "text/plain": [
              "array([[[ 7, 89],\n",
              "        [ 7, 88],\n",
              "        [ 7, 88]],\n",
              "\n",
              "       [[ 7, 89],\n",
              "        [ 7, 88],\n",
              "        [ 7, 88]]])"
            ]
          },
          "metadata": {},
          "execution_count": 71
        }
      ]
    },
    {
      "cell_type": "code",
      "source": [
        "a = np.array([[1, 2, 3, 4, 5],\n",
        "              [1, 2, 3, 7, 8],\n",
        "              [10, 11, 30, 77, 18]])\n",
        "a[1:,2:4]"
      ],
      "metadata": {
        "id": "5nQedCkJhbQZ",
        "outputId": "c2731451-00a2-4e5e-d587-e7f66505cf6f",
        "colab": {
          "base_uri": "https://localhost:8080/"
        }
      },
      "execution_count": 83,
      "outputs": [
        {
          "output_type": "execute_result",
          "data": {
            "text/plain": [
              "array([[ 3,  7],\n",
              "       [30, 77]])"
            ]
          },
          "metadata": {},
          "execution_count": 83
        }
      ]
    },
    {
      "cell_type": "markdown",
      "source": [
        "### Filtrado de elementos de un array"
      ],
      "metadata": {
        "id": "lcrw2Z0m78lP"
      }
    },
    {
      "cell_type": "code",
      "source": [
        "a = np.array([[1, 2, 4],\n",
        "              [4, 5, 6]])\n",
        "m = a[(a % 2 == 0)] \n",
        "m.reshape(2,2)"
      ],
      "metadata": {
        "id": "8AE3fsNL8EtC",
        "outputId": "1795018c-4651-4c2f-86b7-3f2f66024cda",
        "colab": {
          "base_uri": "https://localhost:8080/"
        }
      },
      "execution_count": 89,
      "outputs": [
        {
          "output_type": "execute_result",
          "data": {
            "text/plain": [
              "array([[2, 4],\n",
              "       [4, 6]])"
            ]
          },
          "metadata": {},
          "execution_count": 89
        }
      ]
    },
    {
      "cell_type": "code",
      "source": [
        "print(a[(a % 2 == 0) &  (a > 2)])"
      ],
      "metadata": {
        "id": "5PbY7G5f8JU_"
      },
      "execution_count": null,
      "outputs": []
    },
    {
      "cell_type": "code",
      "source": [],
      "metadata": {
        "id": "m153SPgMc2Oy"
      },
      "execution_count": null,
      "outputs": []
    },
    {
      "cell_type": "markdown",
      "source": [
        "### Operaciones matemáticas con arrays"
      ],
      "metadata": {
        "id": "9yx9EFua8MJX"
      }
    },
    {
      "cell_type": "code",
      "source": [
        "a = np.array([[1, 2, 3], [4, 5, 6]])\n",
        "b = np.array([[1, 1, 1], [2, 2, 2]])"
      ],
      "metadata": {
        "id": "-NrePFXc8PHD"
      },
      "execution_count": null,
      "outputs": []
    },
    {
      "cell_type": "code",
      "source": [
        "print(a + b )"
      ],
      "metadata": {
        "id": "_kFbK9_K8Qrf"
      },
      "execution_count": null,
      "outputs": []
    },
    {
      "cell_type": "code",
      "source": [
        "print(a / b)"
      ],
      "metadata": {
        "id": "qNgHme0V8UIw"
      },
      "execution_count": null,
      "outputs": []
    },
    {
      "cell_type": "code",
      "source": [
        "print(a ** 2)"
      ],
      "metadata": {
        "id": "lG8L6h0r8Vqn"
      },
      "execution_count": null,
      "outputs": []
    },
    {
      "cell_type": "markdown",
      "source": [
        "# 2. Álgebra matricial con arrays"
      ],
      "metadata": {
        "id": "s7k34kfm8X69"
      }
    },
    {
      "cell_type": "markdown",
      "source": [
        "### Producto escalar de dos vectores"
      ],
      "metadata": {
        "id": "j6AAGCRr87wU"
      }
    },
    {
      "cell_type": "markdown",
      "source": [
        "u.dot(v): Devuelve el producto escalar de los vectores u y v.\n",
        "\n"
      ],
      "metadata": {
        "id": "gwuBYeb29Qfh"
      }
    },
    {
      "cell_type": "code",
      "source": [
        "import numpy as np\n",
        "a = np.array([1, 2, 3])\n",
        "b = np.array([1, 0, 1])\n",
        "print(a @ b)"
      ],
      "metadata": {
        "id": "wfdhOaH28ryF"
      },
      "execution_count": null,
      "outputs": []
    },
    {
      "cell_type": "code",
      "source": [
        "print(a.dot(b))"
      ],
      "metadata": {
        "id": "cbsnIrcI8zfo"
      },
      "execution_count": null,
      "outputs": []
    },
    {
      "cell_type": "code",
      "source": [
        "a*b"
      ],
      "metadata": {
        "id": "rV83-Tis9GMa"
      },
      "execution_count": null,
      "outputs": []
    },
    {
      "cell_type": "markdown",
      "source": [
        "### Módulo de un vector"
      ],
      "metadata": {
        "id": "iqUXxB_j9ML1"
      }
    },
    {
      "cell_type": "markdown",
      "source": [
        "norm(v): Devuelve el módulo del vector v."
      ],
      "metadata": {
        "id": "Aq7ECjOp9Pnz"
      }
    },
    {
      "cell_type": "code",
      "source": [
        "a = np.array([3, 4])"
      ],
      "metadata": {
        "id": "P_Lq83--9flL"
      },
      "execution_count": null,
      "outputs": []
    },
    {
      "cell_type": "code",
      "source": [
        "print(np.linalg.norm(a))"
      ],
      "metadata": {
        "id": "CdIAQBEt9hHW"
      },
      "execution_count": null,
      "outputs": []
    },
    {
      "cell_type": "markdown",
      "source": [
        "### Producto de dos matrices"
      ],
      "metadata": {
        "id": "dX-NAWL19tyX"
      }
    },
    {
      "cell_type": "markdown",
      "source": [
        "a.dot(b) : Devuelve el producto matricial de las matrices a y b siempre y cuando sus dimensiones sean compatibles."
      ],
      "metadata": {
        "id": "qYkfLl6J-CLK"
      }
    },
    {
      "cell_type": "code",
      "source": [
        "a = np.array([[1, 2, 3], [4, 5, 6]])\n",
        "b = np.array([[1, 1], [2, 2], [3, 3]])\n",
        "print(a @ b)"
      ],
      "metadata": {
        "id": "5D1PWI3G-EWG"
      },
      "execution_count": null,
      "outputs": []
    },
    {
      "cell_type": "code",
      "source": [
        "print(a.dot(b))"
      ],
      "metadata": {
        "id": "Tzn3MeyH_9fv"
      },
      "execution_count": null,
      "outputs": []
    },
    {
      "cell_type": "markdown",
      "source": [
        "### Matriz traspuesta"
      ],
      "metadata": {
        "id": "5OW9IONI__48"
      }
    },
    {
      "cell_type": "code",
      "source": [
        "np.array([[1, 2, 3], [4, 5, 6]])\n",
        "print(a.T)"
      ],
      "metadata": {
        "id": "NyqB9xjIACUa"
      },
      "execution_count": null,
      "outputs": []
    },
    {
      "cell_type": "markdown",
      "source": [
        "### Traza de una matriz"
      ],
      "metadata": {
        "id": "8TJzLVf5AHf0"
      }
    },
    {
      "cell_type": "markdown",
      "source": [
        "a.trace() : Devuelve la traza (suma de la diagonal principal) de la matriz cuadrada a."
      ],
      "metadata": {
        "id": "HDbLyKgnALVr"
      }
    },
    {
      "cell_type": "code",
      "source": [
        "a = np.array([[1, 2, 3], [4, 5, 6], [7, 8, 9]])\n",
        "print(a.trace())"
      ],
      "metadata": {
        "id": "vCUPvFPYANPk"
      },
      "execution_count": null,
      "outputs": []
    },
    {
      "cell_type": "markdown",
      "source": [
        "### Determinante de una matriz"
      ],
      "metadata": {
        "id": "w6fDKLQxAXr-"
      }
    },
    {
      "cell_type": "markdown",
      "source": [
        "det(a) : Devuelve el determinante de la matriz cuadrada a."
      ],
      "metadata": {
        "id": "N5bWowfWAa1h"
      }
    },
    {
      "cell_type": "code",
      "source": [
        "a = np.array([[1, 2], [3, 4]])\n",
        "print(np.linalg.det(a))"
      ],
      "metadata": {
        "id": "pkqeA5kRAcZn"
      },
      "execution_count": null,
      "outputs": []
    },
    {
      "cell_type": "markdown",
      "source": [
        "### Matriz inversa"
      ],
      "metadata": {
        "id": "7gzecMWTAflX"
      }
    },
    {
      "cell_type": "code",
      "source": [
        "a = np.array([[1, 2], [3, 4]])\n",
        "print(np.linalg.inv(a))"
      ],
      "metadata": {
        "id": "ywNxwmcuAiWO"
      },
      "execution_count": null,
      "outputs": []
    },
    {
      "cell_type": "markdown",
      "source": [
        "### Autovalores de una matriz\n"
      ],
      "metadata": {
        "id": "a6wT5BcrAmUZ"
      }
    },
    {
      "cell_type": "markdown",
      "source": [
        "eigvals(a) : Devuelve los autovalores de la matriz cuadrada a.\n",
        "\n"
      ],
      "metadata": {
        "id": "zSjT_xgsApHW"
      }
    },
    {
      "cell_type": "code",
      "source": [
        "a = np.array([[1, 1, 0], [1, 2, 1], [0, 1, 1]])\n",
        "print(np.linalg.eigvals(a))"
      ],
      "metadata": {
        "id": "4EYOfFehArDo"
      },
      "execution_count": null,
      "outputs": []
    },
    {
      "cell_type": "markdown",
      "source": [
        "### Autovectores de una matriz"
      ],
      "metadata": {
        "id": "fbCg-czaAuCu"
      }
    },
    {
      "cell_type": "markdown",
      "source": [
        "eig(a) : Devuelve los autovalores y los autovectores asociados de la matriz cuadrada a."
      ],
      "metadata": {
        "id": "cAgTS7HOAwyh"
      }
    },
    {
      "cell_type": "code",
      "source": [
        "a = np.array([[1, 1, 0], [1, 2, 1], [0, 1, 1]])\n",
        "print(np.linalg.eig(a))"
      ],
      "metadata": {
        "id": "wC9PixsSAwci"
      },
      "execution_count": null,
      "outputs": []
    },
    {
      "cell_type": "markdown",
      "source": [
        "solve(a, b) : Devuelve la solución del sistema de ecuaciones lineales con los coeficientes de la matriz a y los términos independientes de la matriz b."
      ],
      "metadata": {
        "id": "8EKpELzMA66Q"
      }
    },
    {
      "cell_type": "code",
      "source": [
        "# Sistema de dos ecuaciones y dos incógnitas\n",
        "# x + 2y = 1\n",
        "# 3x + 5y = 2 \n",
        "a = np.array([[1, 2], [3, 5]])\n",
        "b = np.array([1, 2])\n",
        "print(np.linalg.solve(a, b))\n"
      ],
      "metadata": {
        "id": "pBAJWYbJA6JN"
      },
      "execution_count": null,
      "outputs": []
    },
    {
      "cell_type": "code",
      "source": [
        "ciudad_1={'nombre':'Lima',\n",
        "          'Pais':'Perú',\n",
        "          'población':'10 MM',\n",
        "          'Hecho':'Tiene el mejor ceviche y está en el mercado el Eden', \n",
        "          }\n",
        "ciudad_2={'nombre':'La Paz',\n",
        "          'Pais':'Bolivia',\n",
        "          'población':'1 MM',\n",
        "          'Hecho':'Tiene la mejor salteña y es la Ortis', \n",
        "          }\n",
        "ciudad_3={'nombre':'Santa Cruz',\n",
        "          'Pais':'Bolivia',\n",
        "          'población':'3 MM',\n",
        "          'Hecho':'Tiene el mejor arroz con queso y esta en la casa del Camba', \n",
        "          }\n",
        "Ciudades=[ciudad_1,ciudad_2,ciudad_3]\n",
        "for ciudad in Ciudades:\n",
        "  print(ciudad.get(\"nombre\"), \"pertenece a la ciudad de :\" ,ciudad.get(\"Pais\"))"
      ],
      "metadata": {
        "id": "ZCe8vUgWl2Jy",
        "outputId": "64ba316f-1722-424c-9447-43cad8d44d2e",
        "colab": {
          "base_uri": "https://localhost:8080/"
        }
      },
      "execution_count": 93,
      "outputs": [
        {
          "output_type": "stream",
          "name": "stdout",
          "text": [
            "Lima pertenece a la ciudad de : Perú\n",
            "La Paz pertenece a la ciudad de : Bolivia\n",
            "Santa Cruz pertenece a la ciudad de : Bolivia\n"
          ]
        }
      ]
    },
    {
      "cell_type": "markdown",
      "source": [
        "### Solución de un sistema de ecuaciones"
      ],
      "metadata": {
        "id": "k1zOhHr7A2fK"
      }
    },
    {
      "cell_type": "markdown",
      "source": [
        "---\n",
        "\n",
        "# Gracias por completar este laboratorio!\n",
        "\n",
        "---\n"
      ],
      "metadata": {
        "id": "LY_03M0BoJZQ"
      }
    }
  ]
}