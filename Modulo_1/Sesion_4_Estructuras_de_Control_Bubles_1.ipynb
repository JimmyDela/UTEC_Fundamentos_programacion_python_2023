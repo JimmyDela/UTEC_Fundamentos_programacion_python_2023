{
  "nbformat": 4,
  "nbformat_minor": 0,
  "metadata": {
    "colab": {
      "provenance": [],
      "include_colab_link": true
    },
    "kernelspec": {
      "name": "python3",
      "display_name": "Python 3"
    },
    "language_info": {
      "name": "python"
    }
  },
  "cells": [
    {
      "cell_type": "markdown",
      "metadata": {
        "id": "view-in-github",
        "colab_type": "text"
      },
      "source": [
        "<a href=\"https://colab.research.google.com/github/JimmyDela/UTEC_Fundamentos_programacion_python_2023/blob/main/Modulo_1/Sesion_4_Estructuras_de_Control_Bubles_1.ipynb\" target=\"_parent\"><img src=\"https://colab.research.google.com/assets/colab-badge.svg\" alt=\"Open In Colab\"/></a>"
      ]
    },
    {
      "cell_type": "markdown",
      "source": [
        "  \n",
        "  Universidad : UTEC \\\\\n",
        "  Curso       : Programa de especialización en python \\\\\n",
        "  Profesor    : Cristian López Del Alamo \\\\\n",
        "  Tema        : Bucles for y while \\\\\n",
        "  "
      ],
      "metadata": {
        "id": "6RI6RBc839ur"
      }
    },
    {
      "cell_type": "markdown",
      "source": [
        "# Bucle for\n",
        "*Algoritmo for:*\n",
        "\n",
        "---------------\n",
        "1. Para i=0 hasta llegar a 5\n",
        "\n",
        "  1.1 Imprimir(\"Hola\")\n",
        "-----------------\n",
        "\n",
        "Este algoritmo en pseudocódigo muestra el funcionamiento de la instrucción for en Python. Esta instrucción se conoce como bucle, ya que permite ejecutar un conjunto de instrucciones varias veces. En el ejemplo anterior, el bucle ejecuta la función \"Imprimir\" cinco veces.\n",
        "\n",
        "--------------\n",
        "\n",
        "Analizando el comportamiento de este programa:\n",
        "\n",
        "|  Variabel i  |   Instrución |\n",
        "|--------------|---------------|\n",
        "|Cuando i = 0  |Imprime(\"Hola\")|\n",
        "|Cuando i = 1  |Imprime(\"Hola\")|\n",
        "|Cuando i = 2  |Imprime(\"Hola\")|\n",
        "|Cuando i = 3  |Imprime(\"Hola\")|\n",
        "|Cuando i = 4  |Imprime(\"Hola\")     |\n",
        "|Cuando i = 5  |**Termina el bucle**|\n",
        "\n"
      ],
      "metadata": {
        "id": "NLRWcjftj0de"
      }
    },
    {
      "cell_type": "markdown",
      "source": [
        "# Desarrollar estos ejercicios con for:\n",
        "1. Imprimir la $\\sum_{i=0}^n 2^i$\n",
        "2. Imprimir  $\\sum_{i=0}^n 2*i$\n",
        "3. Imprimir  $\\sum_{i=1}^n (2/i)$\n",
        "4. Imprimir  $\\sum_{i=0}^n a*i$\n",
        "5. Imprimir  $\\sum_{i=0}^n i$"
      ],
      "metadata": {
        "id": "XLw7AJwEj395"
      }
    },
    {
      "cell_type": "code",
      "source": [
        "##Sumatoria de 2^n\n",
        "def sum_1(n):\n",
        "  s=0\n",
        "  for i in range(0, n +1):\n",
        "    s=s+2**i\n",
        "  return s\n",
        "sum_1(3)"
      ],
      "metadata": {
        "colab": {
          "base_uri": "https://localhost:8080/"
        },
        "id": "YW4LK231LmX9",
        "outputId": "a36655bd-e682-4a70-ae21-ea936d25322b"
      },
      "execution_count": null,
      "outputs": [
        {
          "output_type": "execute_result",
          "data": {
            "text/plain": [
              "15"
            ]
          },
          "metadata": {},
          "execution_count": 7
        }
      ]
    },
    {
      "cell_type": "code",
      "source": [
        "##Sumatoria de 2*n\n",
        "def sum_2(n):\n",
        "  s=0\n",
        "  for i in range(0, n +1):\n",
        "    s=s+2*i\n",
        "  return s\n",
        "sum_2(4)"
      ],
      "metadata": {
        "colab": {
          "base_uri": "https://localhost:8080/"
        },
        "id": "fXdR8BjPOX6e",
        "outputId": "216bec06-b224-42e9-a2bf-2443486df977"
      },
      "execution_count": null,
      "outputs": [
        {
          "output_type": "execute_result",
          "data": {
            "text/plain": [
              "20"
            ]
          },
          "metadata": {},
          "execution_count": 11
        }
      ]
    },
    {
      "cell_type": "code",
      "source": [
        "##Sumatoria de 2/n\n",
        "def sum_3(n):\n",
        "  s=0\n",
        "  for i in range(1, n +1):\n",
        "    s=s+2/i\n",
        "  return s\n",
        "sum_3(3)"
      ],
      "metadata": {
        "colab": {
          "base_uri": "https://localhost:8080/"
        },
        "id": "mdVmSc_EPLZW",
        "outputId": "3d115a79-dd42-48ab-8bb8-1abe8f3988b6"
      },
      "execution_count": null,
      "outputs": [
        {
          "output_type": "execute_result",
          "data": {
            "text/plain": [
              "3.6666666666666665"
            ]
          },
          "metadata": {},
          "execution_count": 14
        }
      ]
    },
    {
      "cell_type": "code",
      "source": [
        "##Sumatoria de a*i\n",
        "def sum_4(a,n):\n",
        "  s=0\n",
        "  for i in range(0, n +1):\n",
        "    s=s+a*i\n",
        "  return s\n",
        "sum_4(2,3)"
      ],
      "metadata": {
        "colab": {
          "base_uri": "https://localhost:8080/"
        },
        "id": "x8pKLOx7Pfkl",
        "outputId": "ff104644-710e-478f-8c45-1e2ae76de7be"
      },
      "execution_count": null,
      "outputs": [
        {
          "output_type": "execute_result",
          "data": {
            "text/plain": [
              "12"
            ]
          },
          "metadata": {},
          "execution_count": 16
        }
      ]
    },
    {
      "cell_type": "code",
      "source": [
        "##Sumatoria de i\n",
        "def sum_5(n):\n",
        "  s=0\n",
        "  for i in range(0, n +1):\n",
        "    s=s+i\n",
        "  return s\n",
        "sum_5(4)"
      ],
      "metadata": {
        "colab": {
          "base_uri": "https://localhost:8080/"
        },
        "id": "GTJE8mfoQva-",
        "outputId": "58f1fdf4-599a-4116-e762-f5da47ffc9c4"
      },
      "execution_count": null,
      "outputs": [
        {
          "output_type": "execute_result",
          "data": {
            "text/plain": [
              "10"
            ]
          },
          "metadata": {},
          "execution_count": 17
        }
      ]
    },
    {
      "cell_type": "code",
      "source": [
        "##Productoria de i\n",
        "def sum_5(n):\n",
        "  s=1\n",
        "  for i in range(1, n +1):\n",
        "    s=s*i\n",
        "  return s\n",
        "sum_5(4)"
      ],
      "metadata": {
        "colab": {
          "base_uri": "https://localhost:8080/"
        },
        "id": "Piz-k2CNSSWY",
        "outputId": "9b832b25-e160-433f-ba05-ec01fc5a06fd"
      },
      "execution_count": null,
      "outputs": [
        {
          "output_type": "execute_result",
          "data": {
            "text/plain": [
              "24"
            ]
          },
          "metadata": {},
          "execution_count": 18
        }
      ]
    },
    {
      "cell_type": "markdown",
      "source": [
        "Bucle for anidado\n",
        "\n",
        "Imagina que deseas imprimir la tabla de multiplicar del 1 al 12, pero solo para los primeros tres números (1, 2 y 3). Para lograr esto, puedes utilizar un bucle for anidado en Python que recorra los tres primeros números y multiplique cada uno de ellos por los números del 1 al 12.\n",
        "\n",
        "\n",
        "|   | 1  |  2 | 3 |  4 |  5 |  6 |  7 |  8 | 9 |10 |11 | 12 |\n",
        "|---|-------|-------|-------|-------|-------|-------|-------|-------|-------|--------|--------|--------|\n",
        "| 1 |   1   |   2   |   3   |   4   |   5   |   6   |   7   |   8   |   9   |   10   |   11   |   12   |\n",
        "| 2 |   2   |   4   |   6   |   8   |   10  |   12  |   14  |   16  |   18  |   20   |   22   |   24   |\n",
        "| 3 |   3   |   6   |   9   |   12  |   15  |   18  |   21  |   24  |   27  |   30   |   33   |   36   |\n",
        "\n",
        "\n",
        "En esta tabla, podemos observar que es necesario recorrer las columnas del 1 al 12 y las filas del 1 al 3 para imprimir la tabla de multiplicar correspondiente. Para lograr esto, requerimos utilizar dos bucles for anidados en Python.\n",
        "\n",
        "El primer bucle for se utiliza para imprimir la tabla de multiplicar del 1 al 12 para un número dado, mientras que el segundo bucle se utiliza para reiniciar la impresión con el siguiente número:\n",
        "\n",
        "**Algoritmo doble for **\n",
        "para i = 1 hasta llegar a 4\n",
        "Inicio\n",
        "   para j=1 hasta llegar a 12\n",
        "      Imprimir(i*j)\n",
        "   Imprimir(\"/n\")\n",
        "Fin\n",
        "\n",
        "Donde \"/n\" quere decir enter o salto de linea.\n",
        "\n",
        "\n"
      ],
      "metadata": {
        "id": "mHUmgqmdm8WF"
      }
    },
    {
      "cell_type": "markdown",
      "source": [
        "# Ejemplos:\n",
        "# Desarrollar estos ejercicios doble for\n",
        "1. Imprimir un cuadrado de la L con puros asteríscos.\n",
        "2. Imprimir un rectángulo de la a y b con puros asteríscos.\n",
        "3. Imprimir un tríangulo rectángulo de altura H\n",
        "4. Imprimir un tríangulo de altura H\n",
        "5. Imprimir un tríangulo invertido de altura H\n",
        "5. Imprimir una matriz de números de n filas y k columnas.\n",
        " "
      ],
      "metadata": {
        "id": "xrAgqp_8qAHn"
      }
    },
    {
      "cell_type": "code",
      "source": [
        "## 1)\n",
        "def cuadrado(lado):\n",
        "  for i in range(lado):\n",
        "    for j in range(lado):\n",
        "      print(\"*\" , end= \" \")\n",
        "    print() \n",
        "cuadrado(3)"
      ],
      "metadata": {
        "id": "NqBHwXnsuQnG",
        "colab": {
          "base_uri": "https://localhost:8080/"
        },
        "outputId": "b40ab1a8-2b44-4511-cd54-603bfc6767ce"
      },
      "execution_count": null,
      "outputs": [
        {
          "output_type": "stream",
          "name": "stdout",
          "text": [
            "* * * \n",
            "* * * \n",
            "* * * \n"
          ]
        }
      ]
    },
    {
      "cell_type": "code",
      "source": [
        "## 2) Imprimir un rectángulo de la a y b con puros asteríscos.\n",
        "\n",
        "def rectg(a,b):\n",
        "  for i in range(1 , a +1):\n",
        "    for j in range(1,b+1):\n",
        "      print(\"*\" , end= \" \")\n",
        "    print() \n",
        "rectg(5,10)"
      ],
      "metadata": {
        "colab": {
          "base_uri": "https://localhost:8080/"
        },
        "id": "80S3Q5QNWz7v",
        "outputId": "e71001c0-cdb1-44ff-a4aa-a1b7f41baff0"
      },
      "execution_count": null,
      "outputs": [
        {
          "output_type": "stream",
          "name": "stdout",
          "text": [
            "* * * * * * * * * * \n",
            "* * * * * * * * * * \n",
            "* * * * * * * * * * \n",
            "* * * * * * * * * * \n",
            "* * * * * * * * * * \n"
          ]
        }
      ]
    },
    {
      "cell_type": "code",
      "source": [
        "## Imprimir un tríangulo rectángulo de altura H\n",
        "\n",
        "def trian(h):\n",
        "  for i in range(h +1):\n",
        "    for j in range(1,i+1):\n",
        "      print(\"*\", end= \" \")\n",
        "    print() \n",
        "trian(10)"
      ],
      "metadata": {
        "colab": {
          "base_uri": "https://localhost:8080/"
        },
        "id": "VJS-PYTEXSn2",
        "outputId": "1d2d3be4-04af-4f8a-bf39-14c3e312ec8f"
      },
      "execution_count": null,
      "outputs": [
        {
          "output_type": "stream",
          "name": "stdout",
          "text": [
            "\n",
            "* \n",
            "* * \n",
            "* * * \n",
            "* * * * \n",
            "* * * * * \n",
            "* * * * * * \n",
            "* * * * * * * \n",
            "* * * * * * * * \n",
            "* * * * * * * * * \n",
            "* * * * * * * * * * \n"
          ]
        }
      ]
    },
    {
      "cell_type": "code",
      "source": [
        "## Imprimir un tríangulo rectángulo de altura H\n",
        "\n",
        "def trian(h):\n",
        "  for i in range(h +1, 0, -1):\n",
        "    for j in range(1,i+1):\n",
        "      print(\"*\", end= \" \")\n",
        "    print() \n",
        "trian(10)"
      ],
      "metadata": {
        "colab": {
          "base_uri": "https://localhost:8080/"
        },
        "id": "tJQgD83IalE3",
        "outputId": "fa1ef174-dc94-4a15-a5de-d21d7a6b05a7"
      },
      "execution_count": null,
      "outputs": [
        {
          "output_type": "stream",
          "name": "stdout",
          "text": [
            "* * * * * * * * * * * \n",
            "* * * * * * * * * * \n",
            "* * * * * * * * * \n",
            "* * * * * * * * \n",
            "* * * * * * * \n",
            "* * * * * * \n",
            "* * * * * \n",
            "* * * * \n",
            "* * * \n",
            "* * \n",
            "* \n"
          ]
        }
      ]
    },
    {
      "cell_type": "code",
      "source": [
        "## Imprimir un tríangulo rectángulo de altura H\n",
        "\n",
        "def trian(h):\n",
        "  for i in range(h):\n",
        "    for j in range(h-i):\n",
        "      print(\"*\", end= \" \")\n",
        "    print() \n",
        "trian(10)"
      ],
      "metadata": {
        "colab": {
          "base_uri": "https://localhost:8080/"
        },
        "id": "HSSIri0SbU5f",
        "outputId": "e5c331da-7d68-4adb-9100-07d72b026e58"
      },
      "execution_count": null,
      "outputs": [
        {
          "output_type": "stream",
          "name": "stdout",
          "text": [
            "* * * * * * * * * * \n",
            "* * * * * * * * * \n",
            "* * * * * * * * \n",
            "* * * * * * * \n",
            "* * * * * * \n",
            "* * * * * \n",
            "* * * * \n",
            "* * * \n",
            "* * \n",
            "* \n"
          ]
        }
      ]
    },
    {
      "cell_type": "code",
      "source": [
        "## Imprimir un tríangulo rectángulo de altura H\n",
        "\n",
        "## Imprimir un tríangulo rectángulo de altura H\n",
        "\n",
        "def trian(h):\n",
        "  for i in range(h):\n",
        "    for j in range(i):\n",
        "      print(\" \", end= \" \")\n",
        "    for k in range(h-i):\n",
        "      print(\"*\", end= \" \")\n",
        "    print() \n",
        "trian(5)"
      ],
      "metadata": {
        "colab": {
          "base_uri": "https://localhost:8080/"
        },
        "id": "gJbXDCqMdgBW",
        "outputId": "3d15d35b-fa8c-4d61-edba-851b12a9215f"
      },
      "execution_count": null,
      "outputs": [
        {
          "output_type": "stream",
          "name": "stdout",
          "text": [
            "* * * * * \n",
            "  * * * * \n",
            "    * * * \n",
            "      * * \n",
            "        * \n"
          ]
        }
      ]
    },
    {
      "cell_type": "code",
      "source": [
        "def trian(h):\n",
        "  for i in range(1,h+1):\n",
        "    for j in range(h-i):\n",
        "      print(\" \", end=\"\")\n",
        "    for k in range(i):\n",
        "      print(\"* \", end=\"\")\n",
        "    for l in range(h-i):\n",
        "      print(\" \", end= \"\")\n",
        "    print() \n",
        "trian(5)"
      ],
      "metadata": {
        "colab": {
          "base_uri": "https://localhost:8080/"
        },
        "id": "cylbeu_5gaZ3",
        "outputId": "e7db502b-9b69-4f05-f449-3795db85e455"
      },
      "execution_count": null,
      "outputs": [
        {
          "output_type": "stream",
          "name": "stdout",
          "text": [
            "    *     \n",
            "   * *    \n",
            "  * * *   \n",
            " * * * *  \n",
            "* * * * * \n"
          ]
        }
      ]
    },
    {
      "cell_type": "code",
      "source": [
        "import numpy as np\n",
        "a =np.random.rand{}\n",
        "print(a)"
      ],
      "metadata": {
        "id": "2ljepE0QhmoX",
        "outputId": "a468aa4c-991c-4cd4-c3ea-188550b33cc7",
        "colab": {
          "base_uri": "https://localhost:8080/",
          "height": 130
        }
      },
      "execution_count": null,
      "outputs": [
        {
          "output_type": "error",
          "ename": "SyntaxError",
          "evalue": "ignored",
          "traceback": [
            "\u001b[0;36m  File \u001b[0;32m\"<ipython-input-1-7f056b963d83>\"\u001b[0;36m, line \u001b[0;32m2\u001b[0m\n\u001b[0;31m    a =np.random.rand{}\u001b[0m\n\u001b[0m                     ^\u001b[0m\n\u001b[0;31mSyntaxError\u001b[0m\u001b[0;31m:\u001b[0m invalid syntax\n"
          ]
        }
      ]
    },
    {
      "cell_type": "markdown",
      "source": [
        "# Bucle while\n",
        "*Algoritmo while:*\n",
        "\n",
        "---------------\n",
        "1. i = 0\n",
        "2. mientras (i < 5)\n",
        "\n",
        "   2.1 Imprimir(\"Hola\")\n",
        "\n",
        "   2.2 i=i+1 \n",
        "----------------------\n",
        "\n",
        "Este algoritmo en pseudocódigo muestra el funcionamiento de la instrucción **mientras**, en python *while*. Esta instrucción, al igual que el for,  se le conoce como bucle, ya que  ejecutar, también, un conjunto de instrucciones varias veces. En el ejemplo anterior, el bucle ejecuta la función \"Imprimir\" cinco veces.\n",
        "\n",
        "--------------\n",
        "\n",
        "Analizando el comportamiento de este programa:\n",
        "\n",
        "|  Variabel i  |i<5|   Instrución |\n",
        "|--------------|---|---------------|\n",
        "|Cuando i = 0  |0<5|Imprime(\"Hola\")|\n",
        "|Cuando i = 1  |1<5|Imprime(\"Hola\")|\n",
        "|Cuando i = 2  |2<5|Imprime(\"Hola\")|\n",
        "|Cuando i = 3  |3<5|Imprime(\"Hola\")|\n",
        "|Cuando i = 4  |4<5|Imprime(\"Hola\")     |\n",
        "|Cuando i = 5  |5<5|**Termina el bucle**|\n",
        "\n",
        "\n",
        "# Desarrollar estos ejercicios con for:\n",
        "1. Imprimir la $\\sum_{i=0}^n 2^i$\n",
        "2. Imprimir  $\\sum_{i=0}^n 2*i$\n",
        "3. Imprimir  $\\sum_{i=1}^n (2/i)$\n",
        "4. Imprimir  $\\sum_{i=0}^n a*i$\n",
        "5. Imprimir  $\\sum_{i=0}^n i$\n",
        "\n"
      ],
      "metadata": {
        "id": "0qd0caQ9uRC0"
      }
    },
    {
      "cell_type": "markdown",
      "source": [
        "## Tarea para casa: \n",
        "En grupos de 3 personas, desarrollo los siguientes ejercicios tanto en for como en while:\n",
        "Fecha de entrega viernes 5 a las 12 de la noche, por canvas.\n",
        "\n",
        "--------------------------------\n",
        "\n",
        "1. Escribe un programa que use un bucle for anidado para imprimir una pirámide invertida de números del 1 al 9 de la siguiente manera:\n",
        "\n",
        "987654321    \n",
        "87654321   \n",
        "7654321   \n",
        "654321   \n",
        "54321   \n",
        "4321   \n",
        "321   \n",
        "21   \n",
        "1   \n",
        "\n",
        "\n",
        "\n",
        "2. Escribe un programa que use un bucle for anidado para imprimir una tabla de multiplicar en forma de matriz del 1 al 10 de la siguiente manera:\n",
        "\n",
        "1  2  3  4  5  6  7  8  9  10   \n",
        "2  4  6  8  10 12 14 16 18 20   \n",
        "3  6  9  12 15 18 21 24 27 30   \n",
        "4  8  12 16 20 24 28 32 36 40   \n",
        "5  10 15 20 25 30 35 40 45 50   \n",
        "6  12 18 24 30 36 42 48 54 60   \n",
        "7  14 21 28 35 42 49 56 63 70   \n",
        "8  16 24 32 40 48 56 64 72 80   \n",
        "9  18 27 36 45 54 63 72 81 90   \n",
        "10 20 30 40 50 60 70 80 90 100   \n",
        "\n",
        "\n",
        "3. Escribe un programa que use un bucle for anidado para imprimir un patrón de triángulo de números del 1 al 9 de la siguiente manera:\n",
        "\n",
        "1   \n",
        "22   \n",
        "333   \n",
        "4444   \n",
        "55555   \n",
        "666666   \n",
        "7777777   \n",
        "88888888   \n",
        "999999999   \n",
        "\n",
        "4. Escribe un programa que use un bucle while para pedir al usuario que adivine un número del 1 al 100. Si el usuario adivina el número, el programa deberá imprimir \"¡Adivinaste!\", y si no, el programa deberá imprimir \"Inténtalo de nuevo\".\n"
      ],
      "metadata": {
        "id": "40OAbyUCvRXH"
      }
    }
  ]
}