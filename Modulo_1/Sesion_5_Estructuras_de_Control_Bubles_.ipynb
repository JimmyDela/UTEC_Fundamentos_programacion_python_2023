{
  "nbformat": 4,
  "nbformat_minor": 0,
  "metadata": {
    "colab": {
      "provenance": [],
      "include_colab_link": true
    },
    "kernelspec": {
      "name": "python3",
      "display_name": "Python 3"
    },
    "language_info": {
      "name": "python"
    }
  },
  "cells": [
    {
      "cell_type": "markdown",
      "metadata": {
        "id": "view-in-github",
        "colab_type": "text"
      },
      "source": [
        "<a href=\"https://colab.research.google.com/github/JimmyDela/UTEC_Fundamentos_programacion_python_2023/blob/main/Modulo_1/Sesion_5_Estructuras_de_Control_Bubles_.ipynb\" target=\"_parent\"><img src=\"https://colab.research.google.com/assets/colab-badge.svg\" alt=\"Open In Colab\"/></a>"
      ]
    },
    {
      "cell_type": "markdown",
      "source": [
        "  \n",
        "  Universidad : UTEC \\\\\n",
        "  Curso       : Programa de especialización en python \\\\\n",
        "  Profesor    : Cristian López Del Alamo \\\\\n",
        "  Tema        : Bucles while \\\\\n",
        "  "
      ],
      "metadata": {
        "id": "6RI6RBc839ur"
      }
    },
    {
      "cell_type": "markdown",
      "source": [
        "# Bucle for\n",
        "*Algoritmo for:*\n",
        "\n",
        "---------------\n",
        "1. Para i=0 hasta llegar a 5\n",
        "\n",
        "  1.1 Imprimir(\"Hola\")\n",
        "-----------------\n",
        "\n",
        "---------------\n",
        "0. i=0\n",
        "\n",
        "1. mientras (i<5)\n",
        "\n",
        "  1.1 Imprimir(\"Hola\")\n",
        "\n",
        "  1.2 i=i+1\n",
        "-----------------\n",
        "\n",
        "Este algoritmo en pseudocódigo muestra el funcionamiento de la instrucción while en Python. El commando while, al igual que el for ejecuta un conjunto de instrucciones siempre y cuando la condición sea verdadera. Si la condición se hace falsa, entonces el bucle concluye. \n",
        "--------------\n",
        "\n",
        "Analizando el comportamiento de este programa:\n",
        "\n",
        "|  Variabel i  |condición|   Instrución |\n",
        "|--------------|---------|--------------|\n",
        "|Cuando i = 0  | 0<5     |Imprime(\"Hola\")|\n",
        "|Cuando i = 1  | 1<5     |Imprime(\"Hola\")|\n",
        "|Cuando i = 2  | 2<5     |Imprime(\"Hola\")|\n",
        "|Cuando i = 3  | 3<5     |Imprime(\"Hola\")|\n",
        "|Cuando i = 4  | 4<5     |Imprime(\"Hola\")     |\n",
        "|Cuando i = 5  | 5<5     |**Termina el bucle**|\n",
        "\n",
        "Patron while\n",
        "\n",
        "1. i= inicio\n",
        "\n",
        "2. while(i<=FIN):\n",
        "\n",
        "  2.1 Intruccion1\n",
        "\n",
        "  2.2 Intruccion2\n",
        "\n",
        "  2.3 i= i +  1\n",
        "\n",
        "\n",
        "\n",
        "   \n",
        "\n"
      ],
      "metadata": {
        "id": "NLRWcjftj0de"
      }
    },
    {
      "cell_type": "markdown",
      "source": [
        "# Desarrollar estos ejercicios con while:\n",
        "1. Imprimir la $\\sum_{i=0}^n 2^i$\n",
        "2. Imprimir  $\\sum_{i=0}^n 2*i$\n",
        "3. Imprimir  $\\sum_{i=1}^n (2/i)$\n",
        "4. Imprimir  $\\sum_{i=0}^n a*i$\n",
        "5. Imprimir  $\\sum_{i=0}^n i$"
      ],
      "metadata": {
        "id": "XLw7AJwEj395"
      }
    },
    {
      "cell_type": "code",
      "source": [
        "def ejemplo1(n):\n",
        "  i = 0\n",
        "  acu = 0\n",
        "  while(i<=n):\n",
        "    acu  = acu + 2**i\n",
        "    i=i+1\n",
        "  return acu\n",
        "\n",
        "def ejemplo1_for(n):\n",
        "  acu = 0\n",
        "  for i in range(0,n+1):\n",
        "    acu = acu + 2**i\n",
        "  return acu\n",
        "\n",
        "print(ejemplo1(2))\n",
        "\n",
        "def ejemplo2(n):\n",
        "  acu = 0\n",
        "  i =0 \n",
        "  while(i<=n):\n",
        "    acu = acu + 2*i\n",
        "    i = i+ 1\n",
        "  return acu\n",
        "\n",
        "def ejemplo2_for(n):\n",
        "  acu = 0\n",
        "  for i in range(0,n+1):\n",
        "    acu = acu + 2*i\n",
        "  return acu\n",
        "\n",
        "\n",
        "def ejemplo3(n):\n",
        "  i = 1\n",
        "  acu=0\n",
        "  while(i<=n):\n",
        "    acu = acu + 2/i\n",
        "    i=i+1\n",
        "  return acu\n",
        "\n",
        "print(ejemplo3(2))\n",
        "\n",
        "\n",
        "def ejemplo4(a,n):\n",
        "  i = 0\n",
        "  acu = 0\n",
        "  while (i<=n):\n",
        "    acu = acu + a*i\n",
        "    i = i+1\n",
        "  return acu\n",
        "\n",
        "print(ejemplo4(2,3))\n",
        "\n",
        "\n",
        "def Ejemplo5(n):\n",
        "  i = 0\n",
        "  acu = 0\n",
        "  while(i<=n):\n",
        "    acu = acu + i\n",
        "    i=i+1\n",
        "  return acu\n",
        "\n",
        "print(Ejemplo5(2))\n"
      ],
      "metadata": {
        "colab": {
          "base_uri": "https://localhost:8080/"
        },
        "id": "NDvZIKtZ8CHH",
        "outputId": "1b3e07b8-f2b0-48ec-e786-425e4384ebaf"
      },
      "execution_count": null,
      "outputs": [
        {
          "output_type": "stream",
          "name": "stdout",
          "text": [
            "7\n",
            "3.0\n",
            "12\n"
          ]
        }
      ]
    },
    {
      "cell_type": "code",
      "source": [
        "import numpy as np\n",
        "# Una lista es un conjunto de datos los cuales pueden ser números o texto.\n",
        "l = [5,7,5,3,4,33,2,1]\n",
        "print(l)\n",
        "# nota: len(l), retorn el tamaño de la lista l\n",
        "# l[4] // elemento en el lugar 4 de la lista\n",
        "\n",
        "def mayor(lista):\n",
        "  memoria = lista[0]\n",
        "  for i in range(1,len(lista)):\n",
        "    if(memoria < lista[i]):\n",
        "      memoria = lista[i]\n",
        "  return memoria \n",
        "\n",
        "print(mayor(l))\n",
        "\n",
        "# Usando while y for \n",
        "# Imprimir todos los pares en la lista\n",
        "\n",
        "# Sumar  todos los pares en la lista\n",
        "\n",
        "\n",
        "# Hallar el menor de la lista\n",
        "\n",
        "\n",
        "# Sumar los elementos de la lista\n",
        "\n",
        "\n",
        "# Imprimir los impars de la lista \n",
        "\n",
        "\n",
        "# Encontrar la media de los valores de la lista\n",
        "\n",
        "def media(l):\n",
        "  i = 0\n",
        "  acu = 0\n",
        "  while(i<len(l)):\n",
        "    acu = acu + l[i]\n",
        "    i=i+1\n",
        "  return acu/len(l)\n",
        "# Encontrar la varianza de los valores de la lista\n",
        "\n",
        "def varianza(x):\n",
        "  x_bar = media(x)\n",
        "  i = 0\n",
        "  acu = 0\n",
        "  while(i<len(x)):\n",
        "    acu = (x[i] - x_bar)**2\n",
        "    i=i+1\n",
        "  return acu/len(x)\n",
        "\n",
        "\n",
        "\n",
        "\n"
      ],
      "metadata": {
        "colab": {
          "base_uri": "https://localhost:8080/"
        },
        "id": "MDOZ5nQuDogu",
        "outputId": "2ce5b0b5-cb93-4895-c39b-6530dc4c4ecd"
      },
      "execution_count": null,
      "outputs": [
        {
          "output_type": "stream",
          "name": "stdout",
          "text": [
            "[5, 7, 5, 3, 4, 33, 2, 1]\n",
            "33\n"
          ]
        }
      ]
    },
    {
      "cell_type": "markdown",
      "source": [
        "# Desarrollar estos ejercicios con while:\n",
        "1. Imprimir la $\\prod_{i=0}^n 2^i$\n",
        "2. Imprimir  $\\prod_{i=0}^n 2*i$\n",
        "3. Imprimir  $\\prod_{i=1}^n (2/i)$\n",
        "4. Imprimir  $\\prod_{i=0}^n a*i$\n",
        "5. Imprimir  $\\prod_{i=0}^n i$"
      ],
      "metadata": {
        "id": "fncCn-nmCjkc"
      }
    },
    {
      "cell_type": "code",
      "source": [],
      "metadata": {
        "id": "rFlzr1RRdwkj"
      },
      "execution_count": null,
      "outputs": []
    },
    {
      "cell_type": "markdown",
      "source": [
        "Bucle while anidado\n",
        "\n",
        "Imagina que deseas imprimir la tabla de multiplicar del 1 al 12, pero solo para los primeros tres números (1, 2 y 3). Para lograr esto, puedes utilizar un bucle for anidado en Python que recorra los tres primeros números y multiplique cada uno de ellos por los números del 1 al 12.\n",
        "\n",
        "\n",
        "|   | 1  |  2 | 3 |  4 |  5 |  6 |  7 |  8 | 9 |10 |11 | 12 |\n",
        "|---|-------|-------|-------|-------|-------|-------|-------|-------|-------|--------|--------|--------|\n",
        "| 1 |   1   |   2   |   3   |   4   |   5   |   6   |   7   |   8   |   9   |   10   |   11   |   12   |\n",
        "| 2 |   2   |   4   |   6   |   8   |   10  |   12  |   14  |   16  |   18  |   20   |   22   |   24   |\n",
        "| 3 |   3   |   6   |   9   |   12  |   15  |   18  |   21  |   24  |   27  |   30   |   33   |   36   |\n",
        "\n",
        "\n",
        "En esta tabla, podemos observar que es necesario recorrer las columnas del 1 al 12 y las filas del 1 al 3 para imprimir la tabla de multiplicar correspondiente. Para lograr esto, requerimos utilizar dos bucles for anidados en Python.\n",
        "\n",
        "El primer bucle for se utiliza para imprimir la tabla de multiplicar del 1 al 12 para un número dado, mientras que el segundo bucle se utiliza para reiniciar la impresión con el siguiente número:\n",
        "\n",
        "**Algoritmo doble for **\n",
        "i=1\n",
        "\n",
        "mientras (i<4)\n",
        "\n",
        "Inicio\n",
        "\n",
        "   para j=1 hasta llegar a 12\n",
        "\n",
        "      Imprimir(i*j)\n",
        "\n",
        "   Imprimir(\"/n\")\n",
        "\n",
        "   i = i +1 \n",
        "   \n",
        "Fin\n",
        "\n",
        "Donde \"/n\" quere decir enter o salto de linea.\n",
        "\n",
        "\n"
      ],
      "metadata": {
        "id": "mHUmgqmdm8WF"
      }
    },
    {
      "cell_type": "markdown",
      "source": [
        "# Ejemplos:\n",
        "# Desarrollar estos ejercicios usando bucle while\n",
        "1. Imprimir un cuadrado de la lado L con puros asteríscos.\n",
        "2. Imprimir un rectángulo de lado a y b con puros asteríscos.\n",
        "3. Imprimir un tríangulo rectángulo de altura H\n",
        "4. Imprimir un tríangulo de altura H\n",
        "5. Imprimir un tríangulo invertido de altura H\n",
        "5. Imprimir una matriz de números de n filas y k columnas.\n",
        " "
      ],
      "metadata": {
        "id": "xrAgqp_8qAHn"
      }
    },
    {
      "cell_type": "markdown",
      "source": [
        "## Tarea para casa: \n",
        "En grupos de 3 personas, desarrollo los siguientes ejercicios tanto en for como en while:\n",
        "Fecha de entrega viernes 5 a las 12 de la noche, por canvas.\n",
        "\n",
        "--------------------------------\n",
        "\n",
        "1. Imprimir un cuadrado de la lado L con puros asteríscos.\n",
        "2. Imprimir un rectángulo de lado a y b con puros asteríscos.\n",
        "3. Imprimir un tríangulo rectángulo de altura H\n",
        "4. Imprimir un tríangulo de altura H\n",
        "5. Imprimir un tríangulo invertido de altura H\n",
        "5. Imprimir una matriz de números de n filas y k columnas.\n",
        "\n",
        "\n",
        "1. Escribe un programa que use un bucle for anidado para imprimir una pirámide invertida de números del 1 al 9 de la siguiente manera:\n",
        "\n",
        "987654321    \n",
        "87654321   \n",
        "7654321   \n",
        "654321   \n",
        "54321   \n",
        "4321   \n",
        "321   \n",
        "21   \n",
        "1   \n",
        "\n",
        "\n",
        "\n",
        "2. Escribe un programa que use un bucle for anidado para imprimir una tabla de multiplicar en forma de matriz del 1 al 10 de la siguiente manera:\n",
        "\n",
        "1  2  3  4  5  6  7  8  9  10   \n",
        "2  4  6  8  10 12 14 16 18 20   \n",
        "3  6  9  12 15 18 21 24 27 30   \n",
        "4  8  12 16 20 24 28 32 36 40   \n",
        "5  10 15 20 25 30 35 40 45 50   \n",
        "6  12 18 24 30 36 42 48 54 60   \n",
        "7  14 21 28 35 42 49 56 63 70   \n",
        "8  16 24 32 40 48 56 64 72 80   \n",
        "9  18 27 36 45 54 63 72 81 90   \n",
        "10 20 30 40 50 60 70 80 90 100   \n",
        "\n",
        "\n",
        "3. Escribe un programa que use un bucle for anidado para imprimir un patrón de triángulo de números del 1 al 9 de la siguiente manera:\n",
        "\n",
        "1   \n",
        "22   \n",
        "333   \n",
        "4444   \n",
        "55555   \n",
        "666666   \n",
        "7777777   \n",
        "88888888   \n",
        "999999999   \n",
        "\n",
        "4. Escribe un programa que use un bucle while para pedir al usuario que adivine un número del 1 al 100. Si el usuario adivina el número, el programa deberá imprimir \"¡Adivinaste!\", y si no, el programa deberá imprimir \"Inténtalo de nuevo\".\n"
      ],
      "metadata": {
        "id": "40OAbyUCvRXH"
      }
    }
  ]
}